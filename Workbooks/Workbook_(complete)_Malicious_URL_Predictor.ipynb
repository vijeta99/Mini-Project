{
  "nbformat": 4,
  "nbformat_minor": 0,
  "metadata": {
    "colab": {
      "name": "Workbook (complete): Malicious URL Predictor",
      "version": "0.3.2",
      "provenance": [],
      "collapsed_sections": []
    },
    "kernelspec": {
      "name": "python3",
      "display_name": "Python 3"
    }
  },
  "cells": [
    {
      "cell_type": "markdown",
      "metadata": {
        "id": "9NDweq7kqQXS",
        "colab_type": "text"
      },
      "source": [
        "# Machine Learning for Security Analysts - Workbook </br> Malicious URL Predictor\n",
        "\n",
        "---\n",
        "\n",
        "\n",
        "Author: GTKlondike\n",
        "</br>\n",
        "Email: GTKlondike@gmail.com\n",
        "</br>\n",
        "YouTube: [NetSec Explained](https://www.youtube.com/channel/UCsKK7UIiYqvK35aWrCCgUUA)\n",
        "\n",
        "**Dataset:** https://github.com/NetsecExplained/Machine-Learning-for-Security-Analysts\n",
        "\n",
        "**Goal:** This workbook will walk you through the steps to build, train, test, and evaluate a malicious URL predictor using the Scikit-learn machine learning library\n",
        "\n",
        "**Outline:** \n",
        "* Initial Setup\n",
        "* Tokenization\n",
        "* Load Training Data\n",
        "* Vectorize Training Data\n",
        "* Load Testing Data\n",
        "* Train and Evaluate Models\n"
      ]
    },
    {
      "cell_type": "markdown",
      "metadata": {
        "id": "TD52CaEDqSua",
        "colab_type": "text"
      },
      "source": [
        "## Instructions\n",
        "To use Jupyter notebooks:\n",
        "* To run a cell, click on the play button to the left of the code or pressh shift+enter\n",
        "* You will see a busy indicator in the top left area while the runtime is executing\n",
        "* A number will appear when the cell is done"
      ]
    },
    {
      "cell_type": "markdown",
      "metadata": {
        "id": "pWatBgyBZEZy",
        "colab_type": "text"
      },
      "source": [
        "# Initial Setup\n",
        "We'll start by downloading the data and loading the needed libraries."
      ]
    },
    {
      "cell_type": "code",
      "metadata": {
        "id": "ctfYiOVJ10FF",
        "colab_type": "code",
        "outputId": "73543df1-0512-4c4f-f60e-f1a782bc257b",
        "colab": {
          "base_uri": "https://localhost:8080/",
          "height": 428
        }
      },
      "source": [
        "# Download data from Github\n",
        "! git clone https://github.com/NetsecExplained/Machine-Learning-for-Security-Analysts.git\n",
        "  \n",
        "# Install dependencies\n",
        "! pip install nltk sklearn pandas matplotlib seaborn\n",
        "data_dir = \"Machine-Learning-for-Security-Analysts/Malicious URLs.csv\""
      ],
      "execution_count": 1,
      "outputs": [
        {
          "output_type": "stream",
          "text": [
            "Cloning into 'Machine-Learning-for-Security-Analysts'...\n",
            "remote: Enumerating objects: 4178, done.\u001b[K\n",
            "remote: Counting objects: 100% (4178/4178), done.\u001b[K\n",
            "remote: Compressing objects: 100% (4144/4144), done.\u001b[K\n",
            "remote: Total 4178 (delta 54), reused 4114 (delta 23), pack-reused 0\u001b[K\n",
            "Receiving objects: 100% (4178/4178), 14.75 MiB | 7.44 MiB/s, done.\n",
            "Resolving deltas: 100% (54/54), done.\n",
            "Requirement already satisfied: nltk in /usr/local/lib/python3.6/dist-packages (3.2.5)\n",
            "Requirement already satisfied: sklearn in /usr/local/lib/python3.6/dist-packages (0.0)\n",
            "Requirement already satisfied: pandas in /usr/local/lib/python3.6/dist-packages (0.24.2)\n",
            "Requirement already satisfied: matplotlib in /usr/local/lib/python3.6/dist-packages (3.0.3)\n",
            "Requirement already satisfied: seaborn in /usr/local/lib/python3.6/dist-packages (0.9.0)\n",
            "Requirement already satisfied: six in /usr/local/lib/python3.6/dist-packages (from nltk) (1.12.0)\n",
            "Requirement already satisfied: scikit-learn in /usr/local/lib/python3.6/dist-packages (from sklearn) (0.21.2)\n",
            "Requirement already satisfied: numpy>=1.12.0 in /usr/local/lib/python3.6/dist-packages (from pandas) (1.16.4)\n",
            "Requirement already satisfied: python-dateutil>=2.5.0 in /usr/local/lib/python3.6/dist-packages (from pandas) (2.5.3)\n",
            "Requirement already satisfied: pytz>=2011k in /usr/local/lib/python3.6/dist-packages (from pandas) (2018.9)\n",
            "Requirement already satisfied: kiwisolver>=1.0.1 in /usr/local/lib/python3.6/dist-packages (from matplotlib) (1.1.0)\n",
            "Requirement already satisfied: cycler>=0.10 in /usr/local/lib/python3.6/dist-packages (from matplotlib) (0.10.0)\n",
            "Requirement already satisfied: pyparsing!=2.0.4,!=2.1.2,!=2.1.6,>=2.0.1 in /usr/local/lib/python3.6/dist-packages (from matplotlib) (2.4.0)\n",
            "Requirement already satisfied: scipy>=0.14.0 in /usr/local/lib/python3.6/dist-packages (from seaborn) (1.3.0)\n",
            "Requirement already satisfied: joblib>=0.11 in /usr/local/lib/python3.6/dist-packages (from scikit-learn->sklearn) (0.13.2)\n",
            "Requirement already satisfied: setuptools in /usr/local/lib/python3.6/dist-packages (from kiwisolver>=1.0.1->matplotlib) (41.0.1)\n"
          ],
          "name": "stdout"
        }
      ]
    },
    {
      "cell_type": "code",
      "metadata": {
        "id": "z3llO4xb-eTK",
        "colab_type": "code",
        "outputId": "92e8e42c-0aca-4b64-83d4-e455ee5792a6",
        "colab": {
          "base_uri": "https://localhost:8080/",
          "height": 68
        }
      },
      "source": [
        "# Common imports\n",
        "from sklearn.model_selection import train_test_split\n",
        "import pandas as pd\n",
        "import numpy as np\n",
        "import matplotlib.pyplot as plt\n",
        "import random\n",
        "import re\n",
        "\n",
        "%matplotlib inline\n",
        "\n",
        "# Import Scikit-learn helper functions\n",
        "from sklearn.model_selection import train_test_split\n",
        "from sklearn.feature_extraction.text import TfidfVectorizer, CountVectorizer\n",
        "\n",
        "# Import Scikit-learn models\n",
        "from sklearn.linear_model import LogisticRegression\n",
        "from sklearn.naive_bayes import MultinomialNB\n",
        "\n",
        "# Import Scikit-learn metric functions\n",
        "from sklearn.metrics import confusion_matrix, classification_report\n",
        "import seaborn as sns\n",
        "\n",
        "\n",
        "\n",
        "print(\"\\n### Libraries Imported ###\\n\")"
      ],
      "execution_count": 2,
      "outputs": [
        {
          "output_type": "stream",
          "text": [
            "\n",
            "### Libraries Imported ###\n",
            "\n"
          ],
          "name": "stdout"
        }
      ]
    },
    {
      "cell_type": "markdown",
      "metadata": {
        "id": "Q2Kzrx8970Zq",
        "colab_type": "text"
      },
      "source": [
        "# Load the dataset\n",
        "With this set, we first need to load our CSV data."
      ]
    },
    {
      "cell_type": "code",
      "metadata": {
        "id": "Z6Cdtwmmd3w2",
        "colab_type": "code",
        "outputId": "e0f700c8-105b-4b24-bf04-eb36c97fd762",
        "colab": {
          "base_uri": "https://localhost:8080/",
          "height": 85
        }
      },
      "source": [
        "# Load the training data\n",
        "print(\"- Loading CSV Data -\")\n",
        "url_df = pd.read_csv(data_dir)\n",
        "\n",
        "test_url = url_df['URLs'][4]\n",
        "\n",
        "print(\"\\n### CSV Data Loaded ###\\n\")"
      ],
      "execution_count": 3,
      "outputs": [
        {
          "output_type": "stream",
          "text": [
            "- Loading CSV Data -\n",
            "\n",
            "### CSV Data Loaded ###\n",
            "\n"
          ],
          "name": "stdout"
        }
      ]
    },
    {
      "cell_type": "code",
      "metadata": {
        "id": "RiEuaSS_8DuT",
        "colab_type": "code",
        "outputId": "275802ed-c996-4417-bc1a-5a87c15d7239",
        "colab": {
          "base_uri": "https://localhost:8080/",
          "height": 1105
        }
      },
      "source": [
        "# Let's see what our training data looks like\n",
        "print(url_df)"
      ],
      "execution_count": 4,
      "outputs": [
        {
          "output_type": "stream",
          "text": [
            "                                                     URLs Class\n",
            "0                         freebase.com/view/en/bob_sirois  good\n",
            "1                          en.wikipedia.org/wiki/Joie_Lee  good\n",
            "2                pipl.com/directory/people/Rejean/Beaudin  good\n",
            "3       flickr.com/photos/teneyck/sets/72157610336209297/  good\n",
            "4       ussoccer.com/News/Federation-Services/2009/06/...  good\n",
            "5                         youtube.com/watch?v=wjQcuUyfMY0  good\n",
            "6                                westchurchballymena.org/  good\n",
            "7                        tv.yahoo.com/show/45343/castcrew  good\n",
            "8              duckduckgo.com/1/c/Canadian_mathematicians  good\n",
            "9           ossd.wikia.com/wiki/Category:Ahuntsic_College  good\n",
            "10      brokeasaspoke.com/daily-dollars-november-6-thr...  good\n",
            "11                                       jerseyshows.com/  good\n",
            "12      books.google.com/books/about/Municipal_housecl...  good\n",
            "13      trailsidegalleries.com/PopUp.cfm?inc=artists/s...  good\n",
            "14                                 liquida.com/stu-lantz/  good\n",
            "15          anthonysummers.bestbuyfoshoppingforsales.com/  good\n",
            "16                alaska.net/~thomsen/d0031/g0000072.html  good\n",
            "17                    evri.com/person/matt-darby-0x39fee3  good\n",
            "18      bothteamsplayedhard.net/2009/01/26/jalen-rose-...  good\n",
            "19      marathimovieworld.com/moviedetail/anolakhi-he-...  good\n",
            "20                     wagner.nyu.edu/faculty/schall.html  good\n",
            "21                             blog.sudeepaudio.com/?p=98  good\n",
            "22          themontrealcanadians.com/bernie_geoffrion.htm  good\n",
            "23      firedepartmentdirectory.com/location/County-Fi...  good\n",
            "24                teenax.tv/free/movies/cory/everson.html  good\n",
            "25      consciousmusicentertainment.biz/Skyler_Jett___...  good\n",
            "26             comingsoon.net/news/movienews.php?id=79284  good\n",
            "27           badminton2008.com/938fhnr3?kqgqaEa=vSwtSiemz   bad\n",
            "28      collegebasketball.rivals.com/content.asp?CID=1...  good\n",
            "29                               imdb.com/name/nm0472595/  good\n",
            "...                                                   ...   ...\n",
            "420434        songarea.com/music-codes/despised_icon.html  good\n",
            "420435                    youtube.com/watch?v=mu_f1ESW7zA  good\n",
            "420436                                avestec.com/c8yp7lc   bad\n",
            "420437         skyscraperpage.com/cities/?buildingID=5924  good\n",
            "420438                          imdb.com/title/tt0421065/  good\n",
            "420439                                    dodat.com/tuch/  good\n",
            "420440  american-pictures.com/genealogy/persons/per023...  good\n",
            "420441  facebook.com/pages/American-Youth-Football/115...  good\n",
            "420442                             blu-raydiscripper.net/  good\n",
            "420443                  southafricanstories.blogspot.com/  good\n",
            "420444  en.wikipedia.org/wiki/Warren_Powers_(American_...  good\n",
            "420445                             rosecreekbuilders.com/  good\n",
            "420446                              foveawaac.net/yjmaazj   bad\n",
            "420447          en.wikipedia.org/wiki/Julian_Osgood_Field  good\n",
            "420448  gosgmart.com/db_conf/ieccs/directionderebourse...   bad\n",
            "420449                test.sharmx.com.ua/sdideep/87hg8n54   bad\n",
            "420450                                 dns.consistwa.com/   bad\n",
            "420451  passagesmb.com/30days_details.cfm?cID=1&endate...  good\n",
            "420452  rctrading.us/vevex/doc/dxx/8f56eaf5c20880520e4...   bad\n",
            "420453                     amazon.com/phrase/Howie-Morenz  good\n",
            "420454                     letthemreadbooks.blogspot.com/  good\n",
            "420455  uptownmessenger.com/2011/05/irish-channel-corn...  good\n",
            "420456            mcdermottcue.com/player_dave_dupuis.php  good\n",
            "420457            windsongradiology.com/about/doctors.php  good\n",
            "420458               en.wikipedia.org/wiki/%C3%89quiterre  good\n",
            "420459  ourorigins.org/genealogielistfirstname.aspx?an...  good\n",
            "420460    simira.co.id/cifk/live.com/Account_Verified.htm   bad\n",
            "420461  kstatesports.com/sports/w-baskbl/spec-rel/ksu-...  good\n",
            "420462  vh1.com/video/living-colour/9128/cult-of-perso...  good\n",
            "420463     absoluteastronomy.com/topics/SummerSlam_(1990)  good\n",
            "\n",
            "[420464 rows x 2 columns]\n"
          ],
          "name": "stdout"
        }
      ]
    },
    {
      "cell_type": "code",
      "metadata": {
        "id": "hWVv0Lzl8UXi",
        "colab_type": "code",
        "outputId": "c839d484-e4a5-44a9-e164-c19f0965d6e5",
        "colab": {
          "base_uri": "https://localhost:8080/",
          "height": 68
        }
      },
      "source": [
        "# Perform Train/Test split\n",
        "test_percentage = .2\n",
        "\n",
        "train_df, test_df = train_test_split(url_df, test_size=test_percentage, random_state=42)\n",
        "\n",
        "labels = train_df['Class']\n",
        "test_labels = test_df['Class']\n",
        "\n",
        "print(\"\\n### Split Complete ###\\n\")"
      ],
      "execution_count": 5,
      "outputs": [
        {
          "output_type": "stream",
          "text": [
            "\n",
            "### Split Complete ###\n",
            "\n"
          ],
          "name": "stdout"
        }
      ]
    },
    {
      "cell_type": "code",
      "metadata": {
        "id": "sb9tYHkw9JTW",
        "colab_type": "code",
        "outputId": "cec64e4a-8de4-40f1-f84f-c551f825b2cb",
        "colab": {
          "base_uri": "https://localhost:8080/",
          "height": 662
        }
      },
      "source": [
        "# Print counts of each class\n",
        "print(\"- Counting Splits -\")\n",
        "print(\"Training Samples:\", len(train_df))\n",
        "print(\"Testing Samples:\", len(test_df))\n",
        "\n",
        "# Graph counts of each class, for both training and testing\n",
        "count_train_classes = pd.value_counts(train_df['Class'])\n",
        "count_train_classes.plot(kind='bar', fontsize=16)\n",
        "plt.title(\"Class Count (Training)\", fontsize=20)\n",
        "plt.xticks(rotation='horizontal')\n",
        "plt.xlabel(\"Class\", fontsize=20)\n",
        "plt.ylabel(\"Class Count\", fontsize=20)\n",
        "\n",
        "plt.show()\n",
        "\n",
        "count_test_classes = pd.value_counts(test_df['Class'])\n",
        "count_test_classes.plot(kind='bar', fontsize=16, colormap='ocean')\n",
        "plt.title(\"Class Count (Testing)\", fontsize=20)\n",
        "plt.xticks(rotation='horizontal')\n",
        "plt.xlabel(\"Class\", fontsize=20)\n",
        "plt.ylabel(\"Class Count\", fontsize=20)\n",
        "\n",
        "plt.show()"
      ],
      "execution_count": 6,
      "outputs": [
        {
          "output_type": "stream",
          "text": [
            "- Counting Splits -\n",
            "Training Samples: 336371\n",
            "Testing Samples: 84093\n"
          ],
          "name": "stdout"
        },
        {
          "output_type": "display_data",
          "data": {
            "image/png": "[encoded data removed]",
            "text/plain": [
              "<Figure size 432x288 with 1 Axes>"
            ]
          },
          "metadata": {
            "tags": []
          }
        },
        {
          "output_type": "display_data",
          "data": {
            "image/png": "[encoded data removed]",
            "text/plain": [
              "<Figure size 432x288 with 1 Axes>"
            ]
          },
          "metadata": {
            "tags": []
          }
        }
      ]
    },
    {
      "cell_type": "markdown",
      "metadata": {
        "id": "xXws95jzBpcC",
        "colab_type": "text"
      },
      "source": [
        "# Tokenization\n",
        "Create our tokenizer by splitting URLs into their domains, subdomains, directories, files, and extensions."
      ]
    },
    {
      "cell_type": "code",
      "metadata": {
        "id": "qp30x8Ropo_P",
        "colab_type": "code",
        "outputId": "b91e7158-828f-494d-fe3d-73fe48d94de2",
        "colab": {
          "base_uri": "https://localhost:8080/",
          "height": 68
        }
      },
      "source": [
        "# Define tokenizer\n",
        "#   The purpose of a tokenizer is to separate the features from the raw data\n",
        "\n",
        "\n",
        "def tokenizer(url):\n",
        "  \"\"\"Separates feature words from the raw data\n",
        "  Keyword arguments:\n",
        "    url ---- The full URL\n",
        "    \n",
        "  :Returns -- The tokenized words; returned as a list\n",
        "  \"\"\"\n",
        "  \n",
        "  # Split by slash (/) and dash (-)\n",
        "  tokens = re.split('[/-]', url)\n",
        "  \n",
        "  for i in tokens:\n",
        "    # Include the splits extensions and subdomains\n",
        "    if i.find(\".\") >= 0:\n",
        "      dot_split = i.split('.')\n",
        "      \n",
        "      # Remove .com and www. since they're too common\n",
        "      if \"com\" in dot_split:\n",
        "        dot_split.remove(\"com\")\n",
        "      if \"www\" in dot_split:\n",
        "        dot_split.remove(\"www\")\n",
        "      \n",
        "      tokens += dot_split\n",
        "      \n",
        "  return tokens\n",
        "    \n",
        "print(\"\\n### Tokenizer defined ###\\n\")"
      ],
      "execution_count": 7,
      "outputs": [
        {
          "output_type": "stream",
          "text": [
            "\n",
            "### Tokenizer defined ###\n",
            "\n"
          ],
          "name": "stdout"
        }
      ]
    },
    {
      "cell_type": "markdown",
      "metadata": {
        "id": "aAJK7U4901sx",
        "colab_type": "text"
      },
      "source": [
        "## Task 1 - Tokenize a URL\n",
        "1. Print the full URL, **test_url**\n",
        "2. Print the results of **tokenizer(test_url)**"
      ]
    },
    {
      "cell_type": "code",
      "metadata": {
        "id": "7-ZpjlF47Coq",
        "colab_type": "code",
        "outputId": "a1216ec4-f46b-4ccc-fc89-2ee5c61d9fcf",
        "colab": {
          "base_uri": "https://localhost:8080/",
          "height": 173
        }
      },
      "source": [
        "# Let's see how our tokenizer changes our URLs\n",
        "\n",
        "print(\"\\n- Full URL -\\n\")\n",
        "print(test_url)\n",
        "\n",
        "# Tokenize test URL\n",
        "print(\"\\n- Tokenized Output -\\n\")\n",
        "tokenized_url = tokenizer(test_url)\n",
        "print(tokenized_url)"
      ],
      "execution_count": 8,
      "outputs": [
        {
          "output_type": "stream",
          "text": [
            "\n",
            "- Full URL -\n",
            "\n",
            "ussoccer.com/News/Federation-Services/2009/06/University-Of-Miami-President-Donna-E-Shalala-Joins-Team-To-Bring-FIFA-World-Cup-To-United-States-In.aspx\n",
            "\n",
            "- Tokenized Output -\n",
            "\n",
            "['ussoccer.com', 'News', 'Federation', 'Services', '2009', '06', 'University', 'Of', 'Miami', 'President', 'Donna', 'E', 'Shalala', 'Joins', 'Team', 'To', 'Bring', 'FIFA', 'World', 'Cup', 'To', 'United', 'States', 'In.aspx', 'ussoccer', 'In', 'aspx']\n"
          ],
          "name": "stdout"
        }
      ]
    },
    {
      "cell_type": "markdown",
      "metadata": {
        "id": "VJnB-FFwCKse",
        "colab_type": "text"
      },
      "source": [
        "# Vectorize the Data\n",
        "Now that the training data has been loaded, we'll train the vectorizers to turn our features into numbers."
      ]
    },
    {
      "cell_type": "markdown",
      "metadata": {
        "id": "0FpyYEaK0AXK",
        "colab_type": "text"
      },
      "source": [
        "## Task 2 - Train the vectorizers\n",
        "1. Create the count vectorizer **cVec** using the **CountVectorizer** function\n",
        "2. Configure *cVec* to use the *tokenizer* function from earlier\n",
        "3. Perform **fit_transform** on *cVec* to train the vectorizer with the *training URLs*\\\n",
        "a. Save the result as **count_X**\n",
        "\n",
        "\n",
        "4. Create the TF-IDF vectorizer **tVec** using the **TfidfVectorizer** function\n",
        "5. Configure *tVec* to use the *tokenizer* function from earlier\n",
        "6. Perform **fit_transform** on *tVec* to train the vectorizer with the *training URLs*\\\n",
        "a. Save the result as **tfidf_X** "
      ]
    },
    {
      "cell_type": "code",
      "metadata": {
        "id": "XAfNGyoMCRu7",
        "colab_type": "code",
        "outputId": "25e2d95a-a099-4e26-b33d-a5d71079a5df",
        "colab": {
          "base_uri": "https://localhost:8080/",
          "height": 102
        }
      },
      "source": [
        "# Vectorizer the training inputs -- Takes about 30 seconds to complete\n",
        "#   There are two types of vectors:\n",
        "#     1. Count vectorizer\n",
        "#     2. Term Frequency-Inverse Document Frequency (TF-IDF)\n",
        "\n",
        "print(\"- Training Count Vectorizer -\")\n",
        "cVec = CountVectorizer(tokenizer=tokenizer)\n",
        "count_X = cVec.fit_transform(train_df['URLs'])\n",
        "\n",
        "print(\"- Training TF-IDF Vectorizer -\")\n",
        "tVec = TfidfVectorizer(tokenizer=tokenizer)\n",
        "tfidf_X = tVec.fit_transform(train_df['URLs'])\n",
        "\n",
        "\n",
        "print(\"\\n### Vectorizing Complete ###\\n\")"
      ],
      "execution_count": 9,
      "outputs": [
        {
          "output_type": "stream",
          "text": [
            "- Training Count Vectorizer -\n",
            "- Training TF-IDF Vectorizer -\n",
            "\n",
            "### Vectorizing Complete ###\n",
            "\n"
          ],
          "name": "stdout"
        }
      ]
    },
    {
      "cell_type": "markdown",
      "metadata": {
        "id": "cuOCCZ0N0ITx",
        "colab_type": "text"
      },
      "source": [
        "## Task 2a (optional) - Count the test URL tokens\n",
        "1. Print the count of each *token* from **test_url**"
      ]
    },
    {
      "cell_type": "code",
      "metadata": {
        "id": "G4LjPdSfEP5G",
        "colab_type": "code",
        "outputId": "c47b29ae-e4dc-483f-d378-dd3c444075e0",
        "colab": {
          "base_uri": "https://localhost:8080/",
          "height": 459
        }
      },
      "source": [
        "# Manually perform term count on test_url\n",
        "for i in list(dict.fromkeys(tokenized_url)):\n",
        "  print(\"{} - {}\".format(tokenized_url.count(i), i))"
      ],
      "execution_count": 10,
      "outputs": [
        {
          "output_type": "stream",
          "text": [
            "1 - ussoccer.com\n",
            "1 - News\n",
            "1 - Federation\n",
            "1 - Services\n",
            "1 - 2009\n",
            "1 - 06\n",
            "1 - University\n",
            "1 - Of\n",
            "1 - Miami\n",
            "1 - President\n",
            "1 - Donna\n",
            "1 - E\n",
            "1 - Shalala\n",
            "1 - Joins\n",
            "1 - Team\n",
            "2 - To\n",
            "1 - Bring\n",
            "1 - FIFA\n",
            "1 - World\n",
            "1 - Cup\n",
            "1 - United\n",
            "1 - States\n",
            "1 - In.aspx\n",
            "1 - ussoccer\n",
            "1 - In\n",
            "1 - aspx\n"
          ],
          "name": "stdout"
        }
      ]
    },
    {
      "cell_type": "markdown",
      "metadata": {
        "id": "1iT2Ymr90Ryr",
        "colab_type": "text"
      },
      "source": [
        "## Task 2b (optional) - View the test URL vectorizers\n",
        "1. Create a new **CountVectorizer** and **TfidfVectorizer** for demonstration\n",
        "2. Train the new vectorizers on **test_url** using **fit_transform**\n",
        "3. Print the results of each *transform*"
      ]
    },
    {
      "cell_type": "code",
      "metadata": {
        "id": "FjguwTHgDLBQ",
        "colab_type": "code",
        "outputId": "6b90e03f-db85-40cf-f2a6-652c7a4e05bf",
        "colab": {
          "base_uri": "https://localhost:8080/",
          "height": 1054
        }
      },
      "source": [
        "example_cVec = CountVectorizer(tokenizer=tokenizer)\n",
        "example_X = example_cVec.fit_transform([test_url])\n",
        "\n",
        "print(\"\\n- Count Vectorizer (Test URL) -\\n\")\n",
        "print(example_X)\n",
        "\n",
        "print()\n",
        "print(\"=\" * 50)\n",
        "print()\n",
        "\n",
        "example_tVec = TfidfVectorizer(tokenizer=tokenizer)\n",
        "example_X = example_tVec.fit_transform([test_url])\n",
        "\n",
        "print(\"\\n- TFIDF Vectorizer (Test URL) -\\n\")\n",
        "print(example_X)"
      ],
      "execution_count": 11,
      "outputs": [
        {
          "output_type": "stream",
          "text": [
            "\n",
            "- Count Vectorizer (Test URL) -\n",
            "\n",
            "  (0, 24)\t1\n",
            "  (0, 13)\t1\n",
            "  (0, 7)\t1\n",
            "  (0, 16)\t1\n",
            "  (0, 1)\t1\n",
            "  (0, 0)\t1\n",
            "  (0, 22)\t1\n",
            "  (0, 14)\t1\n",
            "  (0, 12)\t1\n",
            "  (0, 15)\t1\n",
            "  (0, 5)\t1\n",
            "  (0, 6)\t1\n",
            "  (0, 17)\t1\n",
            "  (0, 11)\t1\n",
            "  (0, 19)\t1\n",
            "  (0, 20)\t2\n",
            "  (0, 3)\t1\n",
            "  (0, 8)\t1\n",
            "  (0, 25)\t1\n",
            "  (0, 4)\t1\n",
            "  (0, 21)\t1\n",
            "  (0, 18)\t1\n",
            "  (0, 10)\t1\n",
            "  (0, 23)\t1\n",
            "  (0, 9)\t1\n",
            "  (0, 2)\t1\n",
            "\n",
            "==================================================\n",
            "\n",
            "\n",
            "- TFIDF Vectorizer (Test URL) -\n",
            "\n",
            "  (0, 2)\t0.18569533817705186\n",
            "  (0, 9)\t0.18569533817705186\n",
            "  (0, 23)\t0.18569533817705186\n",
            "  (0, 10)\t0.18569533817705186\n",
            "  (0, 18)\t0.18569533817705186\n",
            "  (0, 21)\t0.18569533817705186\n",
            "  (0, 4)\t0.18569533817705186\n",
            "  (0, 25)\t0.18569533817705186\n",
            "  (0, 8)\t0.18569533817705186\n",
            "  (0, 3)\t0.18569533817705186\n",
            "  (0, 20)\t0.3713906763541037\n",
            "  (0, 19)\t0.18569533817705186\n",
            "  (0, 11)\t0.18569533817705186\n",
            "  (0, 17)\t0.18569533817705186\n",
            "  (0, 6)\t0.18569533817705186\n",
            "  (0, 5)\t0.18569533817705186\n",
            "  (0, 15)\t0.18569533817705186\n",
            "  (0, 12)\t0.18569533817705186\n",
            "  (0, 14)\t0.18569533817705186\n",
            "  (0, 22)\t0.18569533817705186\n",
            "  (0, 0)\t0.18569533817705186\n",
            "  (0, 1)\t0.18569533817705186\n",
            "  (0, 16)\t0.18569533817705186\n",
            "  (0, 7)\t0.18569533817705186\n",
            "  (0, 13)\t0.18569533817705186\n",
            "  (0, 24)\t0.18569533817705186\n"
          ],
          "name": "stdout"
        }
      ]
    },
    {
      "cell_type": "markdown",
      "metadata": {
        "id": "UzC_VgqEE7mh",
        "colab_type": "text"
      },
      "source": [
        "# Test and Evaluate the Models\n",
        "OK, we have our training data loaded and our testing data loaded. Now it's time to train and evaluate our models.\n",
        "\n",
        "But first, we're going to define a helper function to display our evaluation reports."
      ]
    },
    {
      "cell_type": "markdown",
      "metadata": {
        "id": "oybCUH9tzuJN",
        "colab_type": "text"
      },
      "source": [
        "## Task 3 - Vectorize the testing data\n",
        "1. Use **cVec** to *transform* **test_df['URLs']**\\\n",
        "a. Save the result as **test_count_X**\n",
        "\n",
        "2. Use **tVec** to *transform* **test_df['URLs']**\\\n",
        "a. Save the result as **test_tfidf_X**"
      ]
    },
    {
      "cell_type": "code",
      "metadata": {
        "id": "gYfQhPItHBjz",
        "colab_type": "code",
        "outputId": "99ba8071-3fae-4771-85d5-1778360e5114",
        "colab": {
          "base_uri": "https://localhost:8080/",
          "height": 102
        }
      },
      "source": [
        "# Vectorize the testing inputs\n",
        "#   Use 'transform' instead of 'fit_transform' because we've already trained our vectorizers\n",
        "\n",
        "print(\"- Count Vectorizer -\")\n",
        "test_count_X = cVec.transform(test_df['URLs'])\n",
        "\n",
        "print(\"- TFIDF Vectorizer -\")\n",
        "test_tfidf_X = tVec.transform(test_df['URLs'])\n",
        "\n",
        "\n",
        "print(\"\\n### Vectorizing Complete ###\\n\")"
      ],
      "execution_count": 12,
      "outputs": [
        {
          "output_type": "stream",
          "text": [
            "- Count Vectorizer -\n",
            "- TFIDF Vectorizer -\n",
            "\n",
            "### Vectorizing Complete ###\n",
            "\n"
          ],
          "name": "stdout"
        }
      ]
    },
    {
      "cell_type": "code",
      "metadata": {
        "id": "32pzJ3naFICU",
        "colab_type": "code",
        "outputId": "d8ee487f-d003-47bd-c802-28314c1d9cf7",
        "colab": {
          "base_uri": "https://localhost:8080/",
          "height": 68
        }
      },
      "source": [
        "# Define report generator\n",
        "\n",
        "def generate_report(cmatrix, score, creport):\n",
        "  \"\"\"Generates and displays graphical reports\n",
        "  Keyword arguments:\n",
        "    cmatrix - Confusion matrix generated by the model\n",
        "    score --- Score generated by the model\n",
        "    creport - Classification Report generated by the model\n",
        "    \n",
        "  :Returns -- N/A\n",
        "  \"\"\"\n",
        "  \n",
        "  # Generate confusion matrix heatmap\n",
        "  plt.figure(figsize=(5,5))\n",
        "  sns.heatmap(cmatrix, \n",
        "              annot=True, \n",
        "              fmt=\"d\", \n",
        "              linewidths=.5, \n",
        "              square = True, \n",
        "              cmap = 'Blues', \n",
        "              annot_kws={\"size\": 16}, \n",
        "              xticklabels=['bad', 'good'],\n",
        "              yticklabels=['bad', 'good'])\n",
        "\n",
        "  plt.xticks(rotation='horizontal', fontsize=16)\n",
        "  plt.yticks(rotation='horizontal', fontsize=16)\n",
        "  plt.xlabel('Actual Label', size=20);\n",
        "  plt.ylabel('Predicted Label', size=20);\n",
        "\n",
        "  title = 'Accuracy Score: {0:.4f}'.format(score)\n",
        "  plt.title(title, size = 20);\n",
        "\n",
        "  # Display classification report and confusion matrix\n",
        "  print(creport)\n",
        "  plt.show()\n",
        "  \n",
        "\n",
        "print(\"\\n### Report Generator Defined ###\\n\")"
      ],
      "execution_count": 13,
      "outputs": [
        {
          "output_type": "stream",
          "text": [
            "\n",
            "### Report Generator Defined ###\n",
            "\n"
          ],
          "name": "stdout"
        }
      ]
    },
    {
      "cell_type": "markdown",
      "metadata": {
        "id": "BOMP_-ymzbuo",
        "colab_type": "text"
      },
      "source": [
        "## Task 4a - Train and evaluate the MNB-TFIDF model\n",
        "1. Create **mnb_tfidf** as a **MultinomialNB()** constructor\n",
        "2. Use **fit** to train *mnb_tfidf* on the training data (*tfidf_X*) and training labels (*labels*)\n",
        "3. Evaluate the model with the testing data (*test_tfidf_X*) and testing labels (*test_labels*):\\\n",
        "a. Use the **score** function in *mnb_tfidf* to calculate model accuracy; save the results as **score_mnb_tfidf**\\\n",
        "b. Use the **predict** function in *mnb_tfidf* to generate model predictions; save the results as **predictions_mnb_tfidf**\\\n",
        "c. Generate the confusion matrix with **confusion_matrix**, using the predictons and labels; save the results as **cmatrix_mnb_tfidf**\\\n",
        "d. Generate the classification report with **classification_report**, using the predictions and labels; save the results as **creport_mnb_tfidf**"
      ]
    },
    {
      "cell_type": "code",
      "metadata": {
        "id": "N_8Ii5LnFUMy",
        "colab_type": "code",
        "outputId": "effbd015-10a9-4de1-fed4-6051a9e532b7",
        "colab": {
          "base_uri": "https://localhost:8080/",
          "height": 531
        }
      },
      "source": [
        "# Multinomial Naive Bayesian with TF-IDF\n",
        "\n",
        "# Train the model\n",
        "mnb_tfidf = MultinomialNB()\n",
        "mnb_tfidf.fit(tfidf_X, labels)\n",
        "\n",
        "\n",
        "# Test the mode (score, predictions, confusion matrix, classification report)\n",
        "score_mnb_tfidf = mnb_tfidf.score(test_tfidf_X, test_labels)\n",
        "predictions_mnb_tfidf = mnb_tfidf.predict(test_tfidf_X)\n",
        "cmatrix_mnb_tfidf = confusion_matrix(predictions_mnb_tfidf, test_labels)\n",
        "creport_mnb_tfidf = classification_report(predictions_mnb_tfidf, test_labels)\n",
        "\n",
        "print(\"\\n### Model Built ###\\n\")\n",
        "generate_report(cmatrix_mnb_tfidf, score_mnb_tfidf, creport_mnb_tfidf)"
      ],
      "execution_count": 22,
      "outputs": [
        {
          "output_type": "stream",
          "text": [
            "\n",
            "### Model Built ###\n",
            "\n",
            "              precision    recall  f1-score   support\n",
            "\n",
            "         bad       0.82      0.99      0.90     12501\n",
            "        good       1.00      0.96      0.98     71592\n",
            "\n",
            "    accuracy                           0.97     84093\n",
            "   macro avg       0.91      0.98      0.94     84093\n",
            "weighted avg       0.97      0.97      0.97     84093\n",
            "\n"
          ],
          "name": "stdout"
        },
        {
          "output_type": "display_data",
          "data": {
            "image/png": "[encoded data removed]",
            "text/plain": [
              "<Figure size 360x360 with 2 Axes>"
            ]
          },
          "metadata": {
            "tags": []
          }
        }
      ]
    },
    {
      "cell_type": "markdown",
      "metadata": {
        "id": "BOYVD36UzYLp",
        "colab_type": "text"
      },
      "source": [
        "## Task 4b - Train and evaluate the MNB-Count model\n",
        "1. Create **mnb_count** as a **MultinomialNB()** constructor\n",
        "2. Use **fit** to train *mnb_count* on the training data (*count_X*) and training labels (*labels*)\n",
        "3. Evaluate the model with the testing data (*test_count_X*) and testing labels (*test_labels*):\\\n",
        "a. Use the **score** function in *mnb_count* to calculate model accuracy; save the results as **score_mnb_count**\\\n",
        "b. Use the **predict** function in *mnb_count* to generate model predictions; save the results as **predictions_mnb_count**\\\n",
        "c. Generate the confusion matrix with **confusion_matrix**, using the predictons and labels; save the results as **cmatrix_mnb_count**\\\n",
        "d. Generate the classification report with **classification_report**, using the predictions and labels; save the results as **creport_mnb_count**"
      ]
    },
    {
      "cell_type": "code",
      "metadata": {
        "id": "qOl4-P-vHy76",
        "colab_type": "code",
        "outputId": "d0451ed3-4c1c-4af0-fec7-ad8171393e08",
        "colab": {
          "base_uri": "https://localhost:8080/",
          "height": 531
        }
      },
      "source": [
        "# Multinomial Naive Bayesian with Count Vectorizer\n",
        "\n",
        "# Train the model\n",
        "mnb_count = MultinomialNB()\n",
        "mnb_count.fit(count_X, labels)\n",
        "\n",
        "\n",
        "# Test the mode (score, predictions, confusion matrix, classification report)\n",
        "score_mnb_count = mnb_count.score(test_count_X, test_labels)\n",
        "predictions_mnb_count = mnb_count.predict(test_count_X)\n",
        "cmatrix_mnb_count = confusion_matrix(predictions_mnb_count, test_labels)\n",
        "creport_mnb_count = classification_report(predictions_mnb_count, test_labels)\n",
        "\n",
        "print(\"\\n### Model Built ###\\n\")\n",
        "generate_report(cmatrix_mnb_count, score_mnb_count, creport_mnb_count)"
      ],
      "execution_count": 19,
      "outputs": [
        {
          "output_type": "stream",
          "text": [
            "\n",
            "### Model Built ###\n",
            "\n",
            "              precision    recall  f1-score   support\n",
            "\n",
            "         bad       0.90      0.97      0.93     13929\n",
            "        good       0.99      0.98      0.99     70164\n",
            "\n",
            "    accuracy                           0.98     84093\n",
            "   macro avg       0.95      0.98      0.96     84093\n",
            "weighted avg       0.98      0.98      0.98     84093\n",
            "\n"
          ],
          "name": "stdout"
        },
        {
          "output_type": "display_data",
          "data": {
            "image/png": "[encoded data removed]",
            "text/plain": [
              "<Figure size 360x360 with 2 Axes>"
            ]
          },
          "metadata": {
            "tags": []
          }
        }
      ]
    },
    {
      "cell_type": "markdown",
      "metadata": {
        "id": "LzpIslDdzVJh",
        "colab_type": "text"
      },
      "source": [
        "## Task 4c - Train and evaluate the LGS-TFIDF model\n",
        "1. Create **lgs_tfidf** as a **LogisticRegression()** constructor, using the **lbfgs** *solver*\n",
        "2. Use **fit** to train *lgs_tfidf* on the training data (*tfidf_X*) and training labels (*labels*)\n",
        "3. Evaluate the model with the testing data (*test_tfidf_X*) and testing labels (*test_labels*):\\\n",
        "a. Use the **score** function in *lgs_tfidf* to calculate model accuracy; save the results as **score_lgs_tfidf**\\\n",
        "b. Use the **predict** function in *lgs_tfidf* to generate model predictions; save the results as **predictions_lgs_tfidf**\\\n",
        "c. Generate the confusion matrix with **confusion_matrix**, using the predictons and labels; save the results as **cmatrix_lgs_tfidf**\\\n",
        "d. Generate the classification report with **classification_report**, using the predictions and labels; save the results as **creport_lgs_tfidf**"
      ]
    },
    {
      "cell_type": "code",
      "metadata": {
        "id": "C5x6-hlkItbB",
        "colab_type": "code",
        "outputId": "73365b7d-1197-40fb-b0fb-063f838fba04",
        "colab": {
          "base_uri": "https://localhost:8080/",
          "height": 585
        }
      },
      "source": [
        "# Logistic Regression with TF-IDF\n",
        "\n",
        "# Train the model\n",
        "lgs_tfidf = LogisticRegression(solver='lbfgs')\n",
        "lgs_tfidf.fit(tfidf_X, labels)\n",
        "\n",
        "\n",
        "# Test the mode (score, predictions, confusion matrix, classification report)\n",
        "score_lgs_tfidf = lgs_tfidf.score(test_tfidf_X, test_labels)\n",
        "predictions_lgs_tfidf = lgs_tfidf.predict(test_tfidf_X)\n",
        "cmatrix_lgs_tfidf = confusion_matrix(predictions_lgs_tfidf, test_labels)\n",
        "creport_lgs_tfidf = classification_report(predictions_lgs_tfidf, test_labels)\n",
        "\n",
        "print(\"\\n### Model Built ###\\n\")\n",
        "generate_report(cmatrix_lgs_tfidf, score_lgs_tfidf, creport_lgs_tfidf)"
      ],
      "execution_count": 16,
      "outputs": [
        {
          "output_type": "stream",
          "text": [
            "/usr/local/lib/python3.6/dist-packages/sklearn/linear_model/logistic.py:947: ConvergenceWarning: lbfgs failed to converge. Increase the number of iterations.\n",
            "  \"of iterations.\", ConvergenceWarning)\n"
          ],
          "name": "stderr"
        },
        {
          "output_type": "stream",
          "text": [
            "\n",
            "### Model Built ###\n",
            "\n",
            "              precision    recall  f1-score   support\n",
            "\n",
            "         bad       0.83      0.96      0.89     13127\n",
            "        good       0.99      0.96      0.98     70966\n",
            "\n",
            "    accuracy                           0.96     84093\n",
            "   macro avg       0.91      0.96      0.93     84093\n",
            "weighted avg       0.97      0.96      0.96     84093\n",
            "\n"
          ],
          "name": "stdout"
        },
        {
          "output_type": "display_data",
          "data": {
            "image/png": "[encoded data removed]",
            "text/plain": [
              "<Figure size 360x360 with 2 Axes>"
            ]
          },
          "metadata": {
            "tags": []
          }
        }
      ]
    },
    {
      "cell_type": "markdown",
      "metadata": {
        "id": "Kd2S7nCzzIpX",
        "colab_type": "text"
      },
      "source": [
        "## Task 4d - Train and evaluate the LGS-Count model\n",
        "1. Create **lgs_count** as a **LogisticRegression()** constructor, using the **lbfgs** *solver*\n",
        "2. Use **fit** to train *lgs_count* on the training data (*count_X*) and training labels (*labels*)\n",
        "3. Evaluate the model with the testing data (*test_count_X*) and testing labels (*test_labels*):\\\n",
        "a. Use the **score** function in *lgs_count* to calculate model accuracy; save the results as **score_lgs_count**\\\n",
        "b. Use the **predict** function in *lgs_count* to generate model predictions; save the results as **predictions_lgs_count**\\\n",
        "c. Generate the confusion matrix with **confusion_matrix**, using the predictons and labels; save the results as **cmatrix_lgs_count**\\\n",
        "d. Generate the classification report with **classification_report**, using the predictions and labels; save the results as **creport_lgs_count**"
      ]
    },
    {
      "cell_type": "code",
      "metadata": {
        "id": "2OTvv0tLItrM",
        "colab_type": "code",
        "outputId": "15fe5cbd-e7bf-4f78-b716-266cf8f6da53",
        "colab": {
          "base_uri": "https://localhost:8080/",
          "height": 585
        }
      },
      "source": [
        "# Logistic Regression with Count Vectorizer\n",
        "\n",
        "# Train the model\n",
        "lgs_count = LogisticRegression(solver='lbfgs')\n",
        "lgs_count.fit(count_X, labels)\n",
        "\n",
        "\n",
        "# Test the mode (score, predictions, confusion matrix, classification report)\n",
        "score_lgs_count = lgs_count.score(test_count_X, test_labels)\n",
        "predictions_lgs_count = lgs_count.predict(test_count_X)\n",
        "cmatrix_lgs_count = confusion_matrix(predictions_lgs_count, test_labels)\n",
        "creport_lgs_count = classification_report(predictions_lgs_count, test_labels)\n",
        "\n",
        "print(\"\\n### Model Built ###\\n\")\n",
        "generate_report(cmatrix_lgs_count, score_lgs_count, creport_lgs_count)"
      ],
      "execution_count": 17,
      "outputs": [
        {
          "output_type": "stream",
          "text": [
            "/usr/local/lib/python3.6/dist-packages/sklearn/linear_model/logistic.py:947: ConvergenceWarning: lbfgs failed to converge. Increase the number of iterations.\n",
            "  \"of iterations.\", ConvergenceWarning)\n"
          ],
          "name": "stderr"
        },
        {
          "output_type": "stream",
          "text": [
            "\n",
            "### Model Built ###\n",
            "\n",
            "              precision    recall  f1-score   support\n",
            "\n",
            "         bad       0.87      0.97      0.92     13518\n",
            "        good       0.99      0.97      0.98     70575\n",
            "\n",
            "    accuracy                           0.97     84093\n",
            "   macro avg       0.93      0.97      0.95     84093\n",
            "weighted avg       0.97      0.97      0.97     84093\n",
            "\n"
          ],
          "name": "stdout"
        },
        {
          "output_type": "display_data",
          "data": {
            "image/png": "[encoded data removed]",
            "text/plain": [
              "<Figure size 360x360 with 2 Axes>"
            ]
          },
          "metadata": {
            "tags": []
          }
        }
      ]
    },
    {
      "cell_type": "code",
      "metadata": {
        "id": "5opD_sHAJX7s",
        "colab_type": "code",
        "colab": {}
      },
      "source": [
        ""
      ],
      "execution_count": 0,
      "outputs": []
    }
  ]
}